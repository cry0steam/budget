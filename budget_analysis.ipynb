{
 "cells": [
  {
   "cell_type": "markdown",
   "metadata": {},
   "source": [
    "##### **Setup**\n",
    "##### Download report from BCC\n",
    "1. Go to the web bank client\n",
    "2. Under each currency account choose \"Выписка\"\n",
    "3. After choosing a period -> \"Отправить на почту\" \n"
   ]
  },
  {
   "cell_type": "code",
   "execution_count": 94,
   "metadata": {},
   "outputs": [],
   "source": [
    "#imports\n",
    "import pandas as pd\n"
   ]
  },
  {
   "cell_type": "code",
   "execution_count": 95,
   "metadata": {},
   "outputs": [],
   "source": [
    "#parse euro_acc table\n",
    "df_euro = pd.read_html('euro_acc.html')[2]\n",
    "#parse tenge_acc table\n",
    "df_tenge = pd.read_html('tenge_acc.html')[2]"
   ]
  },
  {
   "cell_type": "markdown",
   "metadata": {},
   "source": [
    "##### Data rules:\n",
    "1. All income is positive\n",
    "2. All spendings are negative\n",
    "\n",
    "\n",
    "\n",
    "##### DataFrames\n",
    "1. Day-to-day transactions\n",
    "2. Account transfers (incl. salary, forex, between banks)"
   ]
  },
  {
   "cell_type": "code",
   "execution_count": 104,
   "metadata": {},
   "outputs": [
    {
     "name": "stdout",
     "output_type": "stream",
     "text": [
      "<class 'pandas.core.frame.DataFrame'>\n",
      "RangeIndex: 5 entries, 0 to 4\n",
      "Data columns (total 5 columns):\n",
      " #   Column      Non-Null Count  Dtype         \n",
      "---  ------      --------------  -----         \n",
      " 0   № п/п       5 non-null      float64       \n",
      " 1   Дата        5 non-null      datetime64[ns]\n",
      " 2   Дебет       5 non-null      float64       \n",
      " 3   Кредит      3 non-null      float64       \n",
      " 4   Назначение  5 non-null      object        \n",
      "dtypes: datetime64[ns](1), float64(3), object(1)\n",
      "memory usage: 332.0+ bytes\n",
      "None\n"
     ]
    },
    {
     "data": {
      "text/html": [
       "<div>\n",
       "<style scoped>\n",
       "    .dataframe tbody tr th:only-of-type {\n",
       "        vertical-align: middle;\n",
       "    }\n",
       "\n",
       "    .dataframe tbody tr th {\n",
       "        vertical-align: top;\n",
       "    }\n",
       "\n",
       "    .dataframe thead th {\n",
       "        text-align: right;\n",
       "    }\n",
       "</style>\n",
       "<table border=\"1\" class=\"dataframe\">\n",
       "  <thead>\n",
       "    <tr style=\"text-align: right;\">\n",
       "      <th></th>\n",
       "      <th>№ п/п</th>\n",
       "      <th>Дата</th>\n",
       "      <th>Дебет</th>\n",
       "      <th>Кредит</th>\n",
       "      <th>Назначение</th>\n",
       "    </tr>\n",
       "  </thead>\n",
       "  <tbody>\n",
       "    <tr>\n",
       "      <th>0</th>\n",
       "      <td>1.0</td>\n",
       "      <td>2024-01-01</td>\n",
       "      <td>-4.25</td>\n",
       "      <td>NaN</td>\n",
       "      <td>Retail. Номер устройства в ПЦ, 29.12.2023 00:0...</td>\n",
       "    </tr>\n",
       "    <tr>\n",
       "      <th>1</th>\n",
       "      <td>2.0</td>\n",
       "      <td>2024-01-01</td>\n",
       "      <td>0.09</td>\n",
       "      <td>0.09</td>\n",
       "      <td>Учет вознаграждений по CashBack. Дата 29.12.20...</td>\n",
       "    </tr>\n",
       "    <tr>\n",
       "      <th>2</th>\n",
       "      <td>3.0</td>\n",
       "      <td>2024-01-01</td>\n",
       "      <td>0.11</td>\n",
       "      <td>0.11</td>\n",
       "      <td>Учет вознаграждений по CashBack. Дата 29.12.20...</td>\n",
       "    </tr>\n",
       "    <tr>\n",
       "      <th>3</th>\n",
       "      <td>4.0</td>\n",
       "      <td>2024-01-01</td>\n",
       "      <td>-5.59</td>\n",
       "      <td>NaN</td>\n",
       "      <td>Retail. Номер устройства в ПЦ, 29.12.2023 00:0...</td>\n",
       "    </tr>\n",
       "    <tr>\n",
       "      <th>4</th>\n",
       "      <td>5.0</td>\n",
       "      <td>2024-01-01</td>\n",
       "      <td>0.13</td>\n",
       "      <td>0.13</td>\n",
       "      <td>Учет вознаграждений по CashBack. Дата 29.12.20...</td>\n",
       "    </tr>\n",
       "  </tbody>\n",
       "</table>\n",
       "</div>"
      ],
      "text/plain": [
       "   № п/п       Дата  Дебет  Кредит  \\\n",
       "0    1.0 2024-01-01  -4.25     NaN   \n",
       "1    2.0 2024-01-01   0.09    0.09   \n",
       "2    3.0 2024-01-01   0.11    0.11   \n",
       "3    4.0 2024-01-01  -5.59     NaN   \n",
       "4    5.0 2024-01-01   0.13    0.13   \n",
       "\n",
       "                                          Назначение  \n",
       "0  Retail. Номер устройства в ПЦ, 29.12.2023 00:0...  \n",
       "1  Учет вознаграждений по CashBack. Дата 29.12.20...  \n",
       "2  Учет вознаграждений по CashBack. Дата 29.12.20...  \n",
       "3  Retail. Номер устройства в ПЦ, 29.12.2023 00:0...  \n",
       "4  Учет вознаграждений по CashBack. Дата 29.12.20...  "
      ]
     },
     "metadata": {},
     "output_type": "display_data"
    }
   ],
   "source": [
    "#renaming headers\n",
    "\n",
    "#adding cashback data\n",
    "df_temp = df_euro.head(5).copy()\n",
    "df_temp['Дебет'] = pd.to_numeric(df_temp['Дебет'])\n",
    "df_temp['Кредит'] = pd.to_numeric(df_temp['Кредит'])\n",
    "df_temp['Дата'] = pd.to_datetime(df_temp['Дата'], format='%d.%m.%Y')\n",
    "\n",
    "def add_cashback(row):\n",
    "    if pd.isna(row['Дебет']):\n",
    "        row['Дебет'] = row['Кредит']\n",
    "    if pd.isna(row['Кредит']):\n",
    "        row['Дебет'] = -row['Дебет']\n",
    "    return row\n",
    "\n",
    "df_temp = df_temp.apply(add_cashback, axis=1)\n",
    "display(df_temp)"
   ]
  }
 ],
 "metadata": {
  "kernelspec": {
   "display_name": "Python 3",
   "language": "python",
   "name": "python3"
  },
  "language_info": {
   "codemirror_mode": {
    "name": "ipython",
    "version": 3
   },
   "file_extension": ".py",
   "mimetype": "text/x-python",
   "name": "python",
   "nbconvert_exporter": "python",
   "pygments_lexer": "ipython3",
   "version": "3.12.4"
  }
 },
 "nbformat": 4,
 "nbformat_minor": 2
}
